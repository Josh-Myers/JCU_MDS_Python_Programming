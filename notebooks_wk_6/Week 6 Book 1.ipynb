{
 "cells": [
  {
   "cell_type": "markdown",
   "metadata": {},
   "source": [
    "# Jupyter Notebook - Week 6, Book 1\n",
    "## Files in pandas\n",
    "For the first 3 tasks you will need the .csv files provided.\n",
    "\n",
    "### Task 1\n",
    "Let's start simply. Write a program which opens task1.csv and reads its contents into a DataFrame. Then, display this DataFrame to the screen."
   ]
  },
  {
   "cell_type": "code",
   "execution_count": null,
   "metadata": {
    "collapsed": true
   },
   "outputs": [],
   "source": []
  },
  {
   "cell_type": "markdown",
   "metadata": {},
   "source": [
    "### Task 2\n",
    "The file task2.csv needs to be loaded into our program, but it doesn't contain a header row. Write two functions here, and test both from main(). The first will use automaticlly generated headers when loading the file, and the second will use the following headers: \"ProductID\", \"Name\", \"Price\"\n",
    "\n",
    "Both functions need to read the task2.csv file in appropriately, and then print it.\n"
   ]
  },
  {
   "cell_type": "code",
   "execution_count": null,
   "metadata": {
    "collapsed": true
   },
   "outputs": [],
   "source": []
  },
  {
   "cell_type": "markdown",
   "metadata": {},
   "source": [
    "### Task 3\n",
    "Now write a program which loads the file task3.csv into a DataFrame, using the existing header row, and using the \"ID\" column as the index."
   ]
  },
  {
   "cell_type": "code",
   "execution_count": null,
   "metadata": {},
   "outputs": [],
   "source": []
  },
  {
   "cell_type": "markdown",
   "metadata": {},
   "source": [
    "### Task 4\n",
    "Take the following DataFrame:\n",
    "```python\n",
    "data = { 'state' : [ 'Ohio' , 'Ohio' , 'Ohio' , 'Nevada' , 'Nevada' , 'Nevada' ],\n",
    "'year' : [ 2000 , 2001 , 2002 , 2001 , 2002 , 2003 ],\n",
    "'pop' : [ 1.5 , 1.7 , 3.6 , 2.4 , 2.9 , 3.2 ]}\n",
    "frame = pd.DataFrame (data)\n",
    "```\n",
    "and save it three times, using the following names and requirements:\n",
    "\n",
    "|Filename|Requirements|\n",
    "|-:|:-|\n",
    "|full_frame.csv|Contains the data, headers, and index labels|\n",
    "|data.csv|Contains data and headers, but no index|\n",
    "|state_data.csv|Contains data and headers, in the order \"state\", \"year\", \"pop\". No index|"
   ]
  },
  {
   "cell_type": "code",
   "execution_count": null,
   "metadata": {},
   "outputs": [],
   "source": []
  }
 ],
 "metadata": {
  "kernelspec": {
   "display_name": "Python 3",
   "language": "python",
   "name": "python3"
  },
  "language_info": {
   "codemirror_mode": {
    "name": "ipython",
    "version": 3
   },
   "file_extension": ".py",
   "mimetype": "text/x-python",
   "name": "python",
   "nbconvert_exporter": "python",
   "pygments_lexer": "ipython3",
   "version": "3.7.3"
  }
 },
 "nbformat": 4,
 "nbformat_minor": 2
}
