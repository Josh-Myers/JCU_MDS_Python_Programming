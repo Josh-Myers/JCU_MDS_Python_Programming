{
 "cells": [
  {
   "cell_type": "markdown",
   "metadata": {},
   "source": [
    "# Jupyter Notebook - Week 6, Book 2\n",
    "## Missing Data\n",
    "You will need to download the csv file for this Notebook to complete this task.\n",
    "### Task 1\n",
    "Write a program that performs the following tasks:\n",
    "1. Load the file task1.csv into a DataFrame, and print it.\n",
    "2. Remove all rows containing missing data, and print the new copy.\n",
    "3. From the original DataFrame, remove only rows with more than 1 missing entry, and print this\n"
   ]
  },
  {
   "cell_type": "code",
   "execution_count": null,
   "metadata": {},
   "outputs": [],
   "source": []
  }
 ],
 "metadata": {
  "kernelspec": {
   "display_name": "Python 3",
   "language": "python",
   "name": "python3"
  },
  "language_info": {
   "codemirror_mode": {
    "name": "ipython",
    "version": 3
   },
   "file_extension": ".py",
   "mimetype": "text/x-python",
   "name": "python",
   "nbconvert_exporter": "python",
   "pygments_lexer": "ipython3",
   "version": "3.6.3"
  }
 },
 "nbformat": 4,
 "nbformat_minor": 2
}
