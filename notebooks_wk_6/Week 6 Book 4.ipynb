{
 "cells": [
  {
   "cell_type": "markdown",
   "metadata": {},
   "source": [
    "# Jupyter Notebook - Week 6, Book 4\n",
    "## Introduction to Visualisation\n",
    "\n",
    "**IMPORTANT - remember to have '%matplotlib notebook' in your code to plot directly to the Notebook**\n",
    "\n",
    "### Task 1\n",
    "Take the following Series and plot it as a line graph.\n",
    "my_data = np.array([43, 37, 94, 64, 89, 57, 12, 32, 98, 74, 39, 56, 91, 61, 53, 36, 94, 34, 23, 62, 59, 92, 85, 86, 52])"
   ]
  },
  {
   "cell_type": "code",
   "execution_count": null,
   "metadata": {},
   "outputs": [],
   "source": []
  },
  {
   "cell_type": "markdown",
   "metadata": {},
   "source": [
    "### Task 2\n",
    "The following code generates a randomly populated 20 by 4 DataFrame:\n",
    "```python\n",
    "my_data = pd.DataFrame(np.random.randint(0,100,size=(20, 4)), columns=list('ABCD'))\n",
    "```\n",
    "Use it, and plot the DataFrame using a single histogram with 4 bins.\n"
   ]
  },
  {
   "cell_type": "code",
   "execution_count": null,
   "metadata": {},
   "outputs": [],
   "source": []
  },
  {
   "cell_type": "markdown",
   "metadata": {},
   "source": [
    "### Task 3\n",
    "Now set `subplots=True` in the plotting function parameters and see how that looks.\n",
    "\n"
   ]
  },
  {
   "cell_type": "code",
   "execution_count": null,
   "metadata": {},
   "outputs": [],
   "source": []
  }
 ],
 "metadata": {
  "kernelspec": {
   "display_name": "Python 3",
   "language": "python",
   "name": "python3"
  },
  "language_info": {
   "codemirror_mode": {
    "name": "ipython",
    "version": 3
   },
   "file_extension": ".py",
   "mimetype": "text/x-python",
   "name": "python",
   "nbconvert_exporter": "python",
   "pygments_lexer": "ipython3",
   "version": "3.6.3"
  }
 },
 "nbformat": 4,
 "nbformat_minor": 2
}
