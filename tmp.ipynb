{
 "nbformat": 4,
 "nbformat_minor": 2,
 "metadata": {
  "language_info": {
   "name": "python",
   "codemirror_mode": {
    "name": "ipython",
    "version": 3
   },
   "version": "3.7.4-final"
  },
  "orig_nbformat": 2,
  "file_extension": ".py",
  "mimetype": "text/x-python",
  "name": "python",
  "npconvert_exporter": "python",
  "pygments_lexer": "ipython3",
  "version": 3,
  "kernelspec": {
   "name": "python37464bitcodepipenv8a202db650414817a8e45df5d4adc4fd",
   "display_name": "Python 3.7.4 64-bit ('code': pipenv)"
  }
 },
 "cells": [
  {
   "cell_type": "code",
   "execution_count": 3,
   "metadata": {},
   "outputs": [
    {
     "data": {
      "text/plain": "True"
     },
     "execution_count": 3,
     "metadata": {},
     "output_type": "execute_result"
    }
   ],
   "source": [
    "def main"
   ]
  },
  {
   "cell_type": "code",
   "execution_count": 5,
   "metadata": {},
   "outputs": [
    {
     "data": {
      "text/plain": "'josh'"
     },
     "execution_count": 5,
     "metadata": {},
     "output_type": "execute_result"
    }
   ],
   "source": [
    "name = ['j', 'o', 's', 'h']\n",
    "\"\".join(name)"
   ]
  },
  {
   "cell_type": "code",
   "execution_count": 6,
   "metadata": {},
   "outputs": [
    {
     "name": "stdout",
     "output_type": "stream",
     "text": "The Zen of Python, by Tim Peters\n\nBeautiful is better than ugly.\nExplicit is better than implicit.\nSimple is better than complex.\nComplex is better than complicated.\nFlat is better than nested.\nSparse is better than dense.\nReadability counts.\nSpecial cases aren't special enough to break the rules.\nAlthough practicality beats purity.\nErrors should never pass silently.\nUnless explicitly silenced.\nIn the face of ambiguity, refuse the temptation to guess.\nThere should be one-- and preferably only one --obvious way to do it.\nAlthough that way may not be obvious at first unless you're Dutch.\nNow is better than never.\nAlthough never is often better than *right* now.\nIf the implementation is hard to explain, it's a bad idea.\nIf the implementation is easy to explain, it may be a good idea.\nNamespaces are one honking great idea -- let's do more of those!\n"
    }
   ],
   "source": [
    "import this"
   ]
  },
  {
   "cell_type": "code",
   "execution_count": 1,
   "metadata": {},
   "outputs": [],
   "source": [
    "temperature = 33\n",
    "age = 44\n",
    "price = 700"
   ]
  },
  {
   "cell_type": "code",
   "execution_count": 7,
   "metadata": {},
   "outputs": [
    {
     "data": {
      "text/plain": "True"
     },
     "execution_count": 7,
     "metadata": {},
     "output_type": "execute_result"
    }
   ],
   "source": [
    "temperature > 37 and age < 12 or price < 1000\n"
   ]
  },
  {
   "cell_type": "code",
   "execution_count": 2,
   "metadata": {},
   "outputs": [
    {
     "name": "stdout",
     "output_type": "stream",
     "text": "It is not yet a cyclone.\nPlease enter windspeed in valid range (0-255)\nThis is a category 4 cyclone\nPlease enter windspeed as integer\nPlease enter windspeed as integer\nPlease enter windspeed as integer\nPlease enter windspeed as integer\nPlease enter windspeed as integer\n\n\n...Goodbye... \n"
    }
   ],
   "source": [
    "def get_valid_input():\n",
    "    try:\n",
    "        ws = int(input(\"Enter Windspeed (0-255): \"))\n",
    "\n",
    "        if ws not in range(0,256):\n",
    "            print(\"Please enter windspeed in valid range (0-255)\")\n",
    "            return None\n",
    "\n",
    "        return ws\n",
    "\n",
    "    except ValueError:\n",
    "        print(\"Please enter windspeed as integer\")\n",
    "\n",
    "def calculate_cyclone(ws):\n",
    "    if ws < 119:\n",
    "        category = 0\n",
    "    elif ws < 154:\n",
    "        category = 1\n",
    "    elif ws < 178:\n",
    "        category = 2\n",
    "    elif ws < 209:\n",
    "        category = 3\n",
    "    elif ws < 252:\n",
    "        category = 4\n",
    "    else:\n",
    "        category = 5\n",
    "    return category\n",
    "        \n",
    "def main():\n",
    "    while(1):\n",
    "        ws = get_valid_input()\n",
    "        if ws is not None:\n",
    "            category = calculate_cyclone(ws)\n",
    "            if category == 0:\n",
    "                print(\"It is not yet a cyclone.\")\n",
    "            else:\n",
    "                print(\"This is a category {} cyclone\".format(category))\n",
    "    return 1\n",
    "\n",
    "    \n",
    "if __name__ == \"__main__\":\n",
    "    try:\n",
    "        main()\n",
    "    except KeyboardInterrupt :\n",
    "        print(\"\\n\\n...Goodbye... \")"
   ]
  },
  {
   "cell_type": "code",
   "execution_count": null,
   "metadata": {},
   "outputs": [],
   "source": []
  }
 ]
}