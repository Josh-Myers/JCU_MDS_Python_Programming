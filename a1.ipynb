{
 "nbformat": 4,
 "nbformat_minor": 2,
 "metadata": {
  "language_info": {
   "name": "python",
   "codemirror_mode": {
    "name": "ipython",
    "version": 3
   },
   "version": "3.7.4-final"
  },
  "orig_nbformat": 2,
  "file_extension": ".py",
  "mimetype": "text/x-python",
  "name": "python",
  "npconvert_exporter": "python",
  "pygments_lexer": "ipython3",
  "version": 3,
  "kernelspec": {
   "name": "python37464bitcodepipenv8a202db650414817a8e45df5d4adc4fd",
   "display_name": "Python 3.7.4 64-bit ('code': pipenv)"
  }
 },
 "cells": [
  {
   "cell_type": "code",
   "execution_count": 36,
   "metadata": {},
   "outputs": [],
   "source": [
    "import sys\n",
    "\n",
    "def main():\n",
    "    choice = welcome()\n",
    "    if choice == '1':\n",
    "        return instructions()\n",
    "    elif choice == '2':\n",
    "        data = get_input()\n",
    "        return simple_report(data)\n",
    "    elif choice == '3':\n",
    "        data = get_input()\n",
    "        return full_report(data)\n",
    "    elif choice == '4':\n",
    "        sys.exit()\n",
    "    else:\n",
    "        print()"
   ]
  },
  {
   "cell_type": "code",
   "execution_count": 37,
   "metadata": {},
   "outputs": [],
   "source": [
    "def welcome():\n",
    "    \"\"\"\n",
    "    display welcome screen to user\n",
    "    \"\"\"\n",
    "    \n",
    "    choice = input(\"Welcome to The Basic Statistician!\\nPlease choose from the following options:\\n\\t1 – Read Instructions\\n\\t2 – Generate a Simple Report\\n\\t3 – Generate a Full Report\\n\\t4 - Quit\").strip()\n",
    "    \n",
    "    while int(choice) not in range(1,5):\n",
    "        print('Please enter a number from 1 to 4')\n",
    "\n",
    "    return choice"
   ]
  },
  {
   "cell_type": "code",
   "execution_count": 38,
   "metadata": {},
   "outputs": [],
   "source": [
    "def instructions():\n",
    "    \"\"\"\n",
    "    display instructions to user\n",
    "    \"\"\"\n",
    "    print('Enter your data as positive numbers one at a time then press enter. When finished type \"end\"')"
   ]
  },
  {
   "cell_type": "code",
   "execution_count": 39,
   "metadata": {},
   "outputs": [],
   "source": [
    "def get_input():\n",
    "    \"\"\"\n",
    "    get input from user\n",
    "    \"\"\"\n",
    "    \n",
    "    data = []\n",
    "    while True:\n",
    "        i = input(\"Enter a number: \")\n",
    "        try:\n",
    "            num = float(i)\n",
    "            data.append(num)\n",
    "        except:\n",
    "            if i == 'end':\n",
    "                break\n",
    "                return data\n",
    "            else:\n",
    "                print('Enter a positive number or \"end\".')\n",
    "    return data"
   ]
  },
  {
   "cell_type": "code",
   "execution_count": 40,
   "metadata": {},
   "outputs": [],
   "source": [
    "def simple_report(data):\n",
    "    \"\"\"\n",
    "    generate simple report\n",
    "    \"\"\"\n",
    "    num_values = len(data)\n",
    "    total = sum(data)\n",
    "    mean = sum(data) / len(data)\n",
    "    print(f'Simple statistical report\\n--------------------\\nNumber of values: {num_values}\\nTotal: {total}\\nMean: {mean}')"
   ]
  },
  {
   "cell_type": "code",
   "execution_count": 41,
   "metadata": {},
   "outputs": [],
   "source": [
    "def full_report(data):\n",
    "    \"\"\"\n",
    "    generate full report\n",
    "    \"\"\"\n",
    "    num_values = len(data)\n",
    "    total = sum(data)\n",
    "    min_value = min(data)\n",
    "    max_value = max(data)\n",
    "    mean = total / num_values\n",
    "    print(f'Simple statistical report\\n--------------------\\nNumber of values: {num_values}\\nMinumum: {min_value}\\nMaximum: {max_value}\\nMean: {mean}')"
   ]
  },
  {
   "cell_type": "code",
   "execution_count": 43,
   "metadata": {},
   "outputs": [
    {
     "name": "stdout",
     "output_type": "stream",
     "text": "Simple statistical report\n--------------------\nNumber of values: 7\nMinumum: 4.0\nMaximum: 9.0\nMean: 6.285714285714286\n"
    }
   ],
   "source": [
    "main()"
   ]
  },
  {
   "cell_type": "code",
   "execution_count": null,
   "metadata": {},
   "outputs": [],
   "source": []
  },
  {
   "source": [
    "numbers = [1000, 4, 3, 6, 7, 5, 123]\n",
    "\n",
    "def find_largest(numbers):\n",
    "\tfor n in numbers:\n",
    "\t\tfor p in numbers:\n",
    "\t\t\tif p > n:\n",
    "\t\t\t    largest = p\n",
    "\treturn largest\n",
    ""
   ],
   "cell_type": "code",
   "outputs": [],
   "metadata": {},
   "execution_count": 55
  },
  {
   "source": [
    "find_largest(numbers)"
   ],
   "cell_type": "code",
   "outputs": [
    {
     "output_type": "execute_result",
     "data": {
      "text/plain": "1000"
     },
     "metadata": {},
     "execution_count": 56
    }
   ],
   "metadata": {},
   "execution_count": 56
  },
  {
   "cell_type": "code",
   "execution_count": null,
   "metadata": {},
   "outputs": [],
   "source": []
  }
 ]
}