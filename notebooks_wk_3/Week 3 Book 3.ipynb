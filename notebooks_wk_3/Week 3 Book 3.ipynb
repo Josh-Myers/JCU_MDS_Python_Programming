{
 "cells": [
  {
   "cell_type": "markdown",
   "metadata": {},
   "source": [
    "# Jupyter Notebook - Week 3, Book 3\n",
    "\n",
    "## Function recap:\n",
    "\n",
    "We will structure all our Python programs to contain a main function, which is the start of our program. Other functions will be added as needed. Remeber that to use functions we must define them, and then use (call) them.\n",
    "\n",
    "### Definition:\n",
    "```python\n",
    "def functionName():\n",
    "   function body\n",
    "```\n",
    "\n",
    "some examples:\n",
    "```python\n",
    "def getValue(prompt):\n",
    "    value = int(input(prompt))\n",
    "\n",
    "def getAsCurrency(value):\n",
    "    return(\"$\" + format(value, '.2')\n",
    "```\n",
    "Calling:\n",
    "To use a function we use its name. If inputs are needed we pass the appropriate number of arguments, and if the function contains a return statement then the call is assigned to a local variable using the assignment operator (=)\n",
    "For example:\n",
    "\n",
    "```python\n",
    "#define main\n",
    "def main():\n",
    "    price = getValue(\"Enter the price: \")\n",
    "    print(\"The price you entered was\", getAsCurrency(price))\n",
    "\n",
    "#call main\n",
    "main()\n",
    "\n",
    "```\n",
    "Now it’s your turn.\n",
    "For each question below, write the code in the cell below the question.\n",
    "\n",
    "**To complete the workbook you need to complete all four tasks**\n",
    "\n",
    "### Task 1\n",
    "\n",
    "Write a function called getFuel which receives as parameters distance, and fuelRate. Distance will be in kilometres, and fuelRate will be the amount of fuel consumed every 100 kilometres. The function needs to return the total fuel needed to travel the diostance given.\n",
    "\n",
    "You also need to write the main() function, which will ask the user for the distance and fuel consumption rate, pass those values to the function above and then display the result to the screen."
   ]
  },
  {
   "cell_type": "code",
   "execution_count": 10,
   "metadata": {},
   "outputs": [
    {
     "name": "stdout",
     "output_type": "stream",
     "text": "You will need 10.0 litres of fuel to travel that distance.\n"
    }
   ],
   "source": [
    "def main():\n",
    "    \"\"\"\n",
    "    program to calculate total fuel in litres needed to travel a given distance based on the fuel rate of litres per 100 km\n",
    "    \"\"\"\n",
    "    while True:\n",
    "        try:\n",
    "            distance = int(input('What is the distance in kilometers? '))\n",
    "            fuelRate = int(input('What is the fuel consumption rate in litres per 100 km? '))\n",
    "            return getFuel(distance, fuelRate)\n",
    "            break\n",
    "        except:\n",
    "            print(\"Please enter a number.\")\n",
    "        \n",
    "def getFuel(distance, fuelRate):\n",
    "    return print(\"You will need\", distance / (fuelRate * 100), 'litres of fuel to travel that distance.')\n",
    "\n",
    "main()\n"
   ]
  },
  {
   "cell_type": "markdown",
   "metadata": {},
   "source": [
    "### Task 2\n",
    "Create a function called formatCurrency which takes in a float as input and returns a string containing the number with a $ in front of it, with 2 decimal places."
   ]
  },
  {
   "cell_type": "code",
   "execution_count": 8,
   "metadata": {},
   "outputs": [
    {
     "name": "stdout",
     "output_type": "stream",
     "text": "$123.47\n"
    }
   ],
   "source": [
    "def formatCurrency():\n",
    "    while True:\n",
    "        try:\n",
    "            value = float(input('Enter a number: '))\n",
    "            print(f'${value:.2f}')\n",
    "            break\n",
    "        except:\n",
    "            print(\"Please enter a number.\")\n",
    "\n",
    "formatCurrency()"
   ]
  },
  {
   "cell_type": "markdown",
   "metadata": {},
   "source": [
    "### Task 3\n",
    "Design and write a function which will calculate and **display** the stock level of a product at the end of the day. The function will take as input the initial stock level, the amount we bought and the amount we sold. Write a main() function which asks for these 3 values before passing them to the function.\n",
    "\n",
    "Output would be something like:\n",
    "```python\n",
    "Enter stock at start of day: 20\n",
    "Enter amount of new stock received today: 10\n",
    "Enter amount of stock sold: 25\n",
    "\n",
    "Stock level at end of day: 5\n",
    "```\n"
   ]
  },
  {
   "cell_type": "code",
   "execution_count": 10,
   "metadata": {},
   "outputs": [
    {
     "name": "stdout",
     "output_type": "stream",
     "text": "Stock level at end of day: 10\n"
    }
   ],
   "source": [
    "def main():\n",
    "    while True:\n",
    "        try:\n",
    "            initial_level = int(input('Enter stock at start of day:'))\n",
    "            amount_bought = int(input('How many were bought?'))\n",
    "            amount_sold = int(input('How many were sold?'))\n",
    "            end_level = stock_level(initial_level, amount_bought, amount_sold)\n",
    "            print('Stock level at end of day:', end_level)\n",
    "            break\n",
    "            \n",
    "        except:\n",
    "            print(\"Please enter a number.\")\n",
    "\n",
    "\n",
    "def stock_level(inital, bought, sold):\n",
    "    return inital + bought - sold\n",
    "\n",
    "\n",
    "main()"
   ]
  },
  {
   "cell_type": "markdown",
   "metadata": {},
   "source": [
    "### Task 4\n",
    "Design and write a program consisting of the following functions:\n",
    "\n",
    "- main() – gets the current product price from the user, and display the discounted price correctly formatted as currency\n",
    "- calcDiscount(price) – receives a price, applies a 25% discount and returns the discounted price\n",
    "- formatCurrency(number) – receives a number and returns it as a string with a $ in front of it and two decimal places.\n",
    "\n",
    "                 "
   ]
  },
  {
   "cell_type": "code",
   "execution_count": 4,
   "metadata": {},
   "outputs": [
    {
     "name": "stdout",
     "output_type": "stream",
     "text": "Discounted price: $75.00\n"
    }
   ],
   "source": [
    "def main():\n",
    "    while True:\n",
    "        try:\n",
    "            price = float(input('Enter the current price:'))\n",
    "            discounted_price = calcDiscount(price)\n",
    "            discounted_price = formatCurrency(discounted_price)\n",
    "            print(f\"Discounted price: {discounted_price}\")\n",
    "            break \n",
    "        except:\n",
    "            print('Please enter a number.')\n",
    "\n",
    "\n",
    "def calcDiscount(price):\n",
    "    return price * 0.75\n",
    "\n",
    "\n",
    "def formatCurrency(number):\n",
    "    return f'${number:.2f}'\n",
    "\n",
    "\n",
    "main()\n"
   ]
  },
  {
   "cell_type": "code",
   "execution_count": null,
   "metadata": {},
   "outputs": [],
   "source": []
  }
 ],
 "metadata": {
  "kernelspec": {
   "display_name": "Python 3.7.4 64-bit ('code': pipenv)",
   "language": "python",
   "name": "python37464bitcodepipenv8a202db650414817a8e45df5d4adc4fd"
  },
  "language_info": {
   "codemirror_mode": {
    "name": "ipython",
    "version": 3
   },
   "file_extension": ".py",
   "mimetype": "text/x-python",
   "name": "python",
   "nbconvert_exporter": "python",
   "pygments_lexer": "ipython3",
   "version": "3.7.4-final"
  }
 },
 "nbformat": 4,
 "nbformat_minor": 2
}