{
 "cells": [
  {
   "cell_type": "markdown",
   "metadata": {},
   "source": [
    "# Jupyter Notebook - Week 5, Book 6\n",
    "## Playing with Series and DataFrames\n",
    "### Task 1\n",
    "Take the following Series:\n",
    "```python\n",
    "obj = pd.Series([4.5 , 7.2 , - 5.3 , 3.6], index = ['d', 'b', 'a', 'c'])\n",
    "```\n",
    "Now write a program that does the following things, printing the Series after each:\n",
    "- reindex in reverse order\n",
    "- drop the 'c' column\n",
    "- sort the index alphabetically"
   ]
  },
  {
   "cell_type": "code",
   "execution_count": null,
   "metadata": {
    "collapsed": true
   },
   "outputs": [],
   "source": []
  },
  {
   "cell_type": "markdown",
   "metadata": {},
   "source": [
    "### Task 2\n",
    "Take the sample DataFrame we created earlier:\n",
    "```python\n",
    "data = {'state' : [ 'Ohio' , 'Ohio' , 'Ohio' , 'Nevada' , 'Nevada' , 'Nevada'],\n",
    "'year' : [2000 , 2001 , 2002 , 2001 , 2002 , 2003],\n",
    "'pop' : [1.5 , 1.7 , 3.6 , 2.4 , 2.9 , 3.2]}\n",
    "frame = pd.DataFrame(data)\n",
    "```\n",
    "Now write a program that does the following things, printing the DataFrame after each:\n",
    "- rearrange the DataFrame so that the columns are in the order : year, state, pop.\n",
    "- add a column in fourth place called 'debt' and set the value of this to 0\n",
    "- rank (don't sort) the DataFrame by the value of 'pop'"
   ]
  },
  {
   "cell_type": "code",
   "execution_count": null,
   "metadata": {},
   "outputs": [],
   "source": []
  }
 ],
 "metadata": {
  "kernelspec": {
   "display_name": "Python 3",
   "language": "python",
   "name": "python3"
  },
  "language_info": {
   "codemirror_mode": {
    "name": "ipython",
    "version": 3
   },
   "file_extension": ".py",
   "mimetype": "text/x-python",
   "name": "python",
   "nbconvert_exporter": "python",
   "pygments_lexer": "ipython3",
   "version": "3.7.3"
  }
 },
 "nbformat": 4,
 "nbformat_minor": 2
}
