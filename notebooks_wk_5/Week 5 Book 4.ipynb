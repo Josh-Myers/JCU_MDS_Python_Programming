{
 "cells": [
  {
   "cell_type": "markdown",
   "metadata": {},
   "source": [
    "# Jupyter Notebook - Week 5, Book 4\n",
    "## Vectorized Operations\n",
    "### Task 1\n",
    "Take the following code which creates a randomly filled 5 by 3 ndarray:\n",
    "```python\n",
    "final_data = np.random.randint(0, 1000, (5, 3))\n",
    "```\n",
    "After using this to create the ndarray, print the following things to the screen:\n",
    "- the ndarray\n",
    "- the ndarray multiplied by 5\n",
    "- the ndarray with 100 added to each element"
   ]
  },
  {
   "cell_type": "code",
   "execution_count": null,
   "metadata": {},
   "outputs": [],
   "source": []
  },
  {
   "cell_type": "markdown",
   "metadata": {},
   "source": [
    "## Conditional Array Operations\n",
    "### Task 2\n",
    "Using the *where* operation shown in your notes, take your program above and produce an ndarray where every value less than 100 is set to zero.\n",
    "Print the original array, then the modified array, to show this in action."
   ]
  },
  {
   "cell_type": "code",
   "execution_count": null,
   "metadata": {},
   "outputs": [],
   "source": []
  }
 ],
 "metadata": {
  "kernelspec": {
   "display_name": "Python 3",
   "language": "python",
   "name": "python3"
  },
  "language_info": {
   "codemirror_mode": {
    "name": "ipython",
    "version": 3
   },
   "file_extension": ".py",
   "mimetype": "text/x-python",
   "name": "python",
   "nbconvert_exporter": "python",
   "pygments_lexer": "ipython3",
   "version": "3.7.3"
  }
 },
 "nbformat": 4,
 "nbformat_minor": 2
}
