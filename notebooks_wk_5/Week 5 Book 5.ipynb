{
 "cells": [
  {
   "cell_type": "markdown",
   "metadata": {},
   "source": [
    "# Jupyter Notebook - Week 5, Book 5\n",
    "## Series\n",
    "### Task 1\n",
    "Write a program that creates and prints two pandas Series objects. One is to be based off the following dictionary:\n",
    "```python\n",
    "data_dict = {'bill': '353-1234', 'rich': '269-1234', 'jane': '352-1234'}\n",
    "```\n",
    "And the second is to contain 6 integers between 10 and 100. You can hard code these, no need for random generation, and we will use the default index for this Series.\n"
   ]
  },
  {
   "cell_type": "code",
   "execution_count": null,
   "metadata": {
    "collapsed": true
   },
   "outputs": [],
   "source": []
  },
  {
   "cell_type": "markdown",
   "metadata": {},
   "source": [
    "### Task 2\n",
    "Copy the program you wrote above, and add the following names:\n",
    "- index based off the dictionary is called **name**\n",
    "- data based off the dictionary is called **phone_number**\n",
    "- index for the hard coded data is **month**\n",
    "- data for the hard coded data is **rainfall**"
   ]
  },
  {
   "cell_type": "code",
   "execution_count": null,
   "metadata": {
    "collapsed": true
   },
   "outputs": [],
   "source": []
  },
  {
   "cell_type": "markdown",
   "metadata": {},
   "source": [
    "## DataFrame\n",
    "### Task 3\n",
    "\n",
    "Create a DataFrame based off the following data (make a dictionary of lists, and base it off those).\n",
    "\n",
    "|City|Min|Max|Days of Rainfall|\n",
    "|-|-|-|-|\n",
    "|Adelaide|16.5|28.5|4|\n",
    "|Brisbane|20.9|29.1|13|\n",
    "|Darwin|24.8|31.8|21|\n",
    "|Hobart|11.9|21.6|11|\n",
    "|Melbourne|14.3|25.9|8|\n",
    "|Perth|16.9|31.6|2|\n",
    "|Sydney|18.8|26.4|11|\n",
    "\n",
    "Print the entire DataFrame, then print just the city name, and days of rainfall."
   ]
  },
  {
   "cell_type": "code",
   "execution_count": null,
   "metadata": {
    "collapsed": true
   },
   "outputs": [],
   "source": []
  }
 ],
 "metadata": {
  "kernelspec": {
   "display_name": "Python 3",
   "language": "python",
   "name": "python3"
  },
  "language_info": {
   "codemirror_mode": {
    "name": "ipython",
    "version": 3
   },
   "file_extension": ".py",
   "mimetype": "text/x-python",
   "name": "python",
   "nbconvert_exporter": "python",
   "pygments_lexer": "ipython3",
   "version": "3.7.3"
  }
 },
 "nbformat": 4,
 "nbformat_minor": 2
}
